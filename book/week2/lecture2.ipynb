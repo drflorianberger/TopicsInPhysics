{
 "cells": [
  {
   "cell_type": "markdown",
   "metadata": {},
   "source": [
    "# Fluctuations of Ion Channels\n",
    "\n",
    "```{admonition} Key Concepts\n",
    "- Biological function\n",
    "- Gating\n",
    "```\n",
    "\n"
   ]
  },
  {
   "source": [
    "## The fundament for neural communication\n",
    "Cells seperate ions between compartments to store energy and information. These compartments are seperated by membranes with a protein machinery of pumps and channels. These pumps and channels regulate the trans-membrane ion flow, keep charge imbalances from equilibrating and thus generate and maintaine a voltage potential across the membrane. This membrane potential can be altered by chemical, electrical, or mechanical stimulation and the resulting disturbance can progagate along the cell membrane as action potentials. Action potentials are fundamental for neural communcation and travel at a rate of $10-100\\, \\rm{m/s}$.\n",
    "\n",
    "## The basics of seperating charges\n",
    "\n",
    "Imagen you have two containers filled with the same number of opositely charged ions. The containers are connected by a channel which is initially blocked.\n",
    "\n",
    "```{figure} sc1.png\n",
    "---\n",
    "height: 150px\n",
    "name: directive-fig\n",
    "---\n",
    "Here is my figure caption!\n",
    "```\n",
    "How does the eqilibrated system looks like after we open the channel and let the system relax to its equilibrium state? Click below right to see the answer.\n",
    "```{toggle}\n",
    "Some hidden toggle content!\n",
    "```{figure} sc1.png\n",
    "---\n",
    "height: 150px\n",
    "name: directive-fig\n",
    "---\n",
    "Here is my figure caption!\n",
    "```\n",
    "\n"
   ],
   "cell_type": "markdown",
   "metadata": {}
  },
  {
   "source": [
    "# Terms and concepts used in the paper\n",
    "\n",
    "- Membrane with channels\n",
    "\n",
    "In biology, different compartments are separated by membranes. Different ionic solutions in these compartments result in different potentials (voltages) between these compartments. Proteins in the membrane can regulate the flow of ions, either by pumping or open pores for specific ions.  Channels are proteins in a membrane that allow ions to traverse through their pores. Channels can be gated with different mechanisms, here we consider voltage-gated ion channels. The current through a single channel when its open is called the single-channel current.  \n",
    "- Electrophysiology\n",
    "\n",
    "Experimental techniques to measure currents and voltages in cells and tissue.\n",
    "\n",
    "- Channel conductance\n",
    "- Dwelling times\n",
    "- Open probability\n",
    "- ensemble average / time average\n",
    "- depolarization\n",
    "\n",
    "\n",
    "\n",
    "membrane potential:\n",
    "https://www.physiologyweb.com/lecture_notes/resting_membrane_potential/resting_membrane_potential_membrane_ionic_current_equations.html"
   ],
   "cell_type": "markdown",
   "metadata": {}
  },
  {
   "source": [
    "# Notation in the paper\n",
    "\n",
    "- $i$ single channel current\n",
    "- $N$ number of channels \n",
    "- $P_0$ open probability\n",
    "- $\\gamma$ single channel conductance"
   ],
   "cell_type": "markdown",
   "metadata": {}
  }
 ],
 "metadata": {
  "kernelspec": {
   "display_name": "Python 3",
   "language": "python",
   "name": "python3"
  },
  "language_info": {
   "codemirror_mode": {
    "name": "ipython",
    "version": 3
   },
   "file_extension": ".py",
   "mimetype": "text/x-python",
   "name": "python",
   "nbconvert_exporter": "python",
   "pygments_lexer": "ipython3",
   "version": "3.7.6"
  },
  "latex_envs": {
   "LaTeX_envs_menu_present": true,
   "autoclose": false,
   "autocomplete": true,
   "bibliofile": "biblio.bib",
   "cite_by": "apalike",
   "current_citInitial": 1,
   "eqLabelWithNumbers": true,
   "eqNumInitial": 1,
   "hotkeys": {
    "equation": "Ctrl-E",
    "itemize": "Ctrl-I"
   },
   "labels_anchors": false,
   "latex_user_defs": false,
   "report_style_numbering": false,
   "user_envs_cfg": false
  },
  "widgets": {
   "application/vnd.jupyter.widget-state+json": {
    "state": {},
    "version_major": 2,
    "version_minor": 0
   }
  }
 },
 "nbformat": 4,
 "nbformat_minor": 4
}